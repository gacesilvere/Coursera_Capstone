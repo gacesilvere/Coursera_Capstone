{
 "cells": [
  {
   "cell_type": "markdown",
   "metadata": {},
   "source": [
    "The Battle of the Neighborhoods - Week 1(Part 2)\n",
    "------------------------------------------------"
   ]
  },
  {
   "cell_type": "markdown",
   "metadata": {},
   "source": [
    "In this project we will analyze the city of New York.\n"
   ]
  },
  {
   "cell_type": "raw",
   "metadata": {},
   "source": [
    "Data 1 : New York City has a total of 5 boroughs and 306 neighborhoods. In order to segment the neighborhoods and explore them, we will  need a dataset that contains the 5 boroughs, the neighborhoods existing i these boroughs and the geographical coordinates of each neighborhood.\n",
    "\n",
    "Dataset sources: \n",
    "\n",
    "https://geo.nyu.edu/catalog/nyu_2451_34572"
   ]
  },
  {
   "cell_type": "markdown",
   "metadata": {},
   "source": [
    "Data 2 : We will use the data relative to the Farmers Markets and Food Boxes. \n",
    "\n",
    "Dataset sources:\n",
    "- https://data.cityofnewyork.us/dataset/DOHMH-Farmers-Markets-and-Food-Boxes/8vwk-6iz2\n",
    "- https://www.grownyc.org/greenmarketco/foodbox"
   ]
  },
  {
   "cell_type": "markdown",
   "metadata": {},
   "source": [
    "Data 3 : We will use the dataset related to New York City Population and Cuisines(Restaurants)."
   ]
  },
  {
   "cell_type": "markdown",
   "metadata": {},
   "source": [
    "Data sources:\n",
    "    \n",
    "- https://en.wikipedia.org/wiki/New_York_City\n",
    "\n",
    "- https://en.wikipedia.org/wiki/Economy_of_New_York_City\n",
    "\n",
    "- https://en.wikipedia.org/wiki/Portal:New_York_City\n",
    "\n",
    "- https://en.wikipedia.org/wiki/Cuisine_of_New_York_City\n",
    "\n",
    "- https://en.wikipedia.org/wiki/List_of_Michelin_starred_restaurants_in_New_York_City"
   ]
  },
  {
   "cell_type": "markdown",
   "metadata": {},
   "source": [
    "Data 4: We will use  New York city geographical coordinates data and the Foursquare API to explore neighborhoods in New York City."
   ]
  },
  {
   "cell_type": "code",
   "execution_count": null,
   "metadata": {},
   "outputs": [],
   "source": []
  }
 ],
 "metadata": {
  "kernelspec": {
   "display_name": "Python",
   "language": "python",
   "name": "conda-env-python-py"
  },
  "language_info": {
   "codemirror_mode": {
    "name": "ipython",
    "version": 3
   },
   "file_extension": ".py",
   "mimetype": "text/x-python",
   "name": "python",
   "nbconvert_exporter": "python",
   "pygments_lexer": "ipython3",
   "version": "3.6.7"
  }
 },
 "nbformat": 4,
 "nbformat_minor": 4
}
