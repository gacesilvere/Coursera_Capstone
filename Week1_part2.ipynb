{
 "cells": [
  {
   "cell_type": "markdown",
   "metadata": {},
   "source": [
    "The Battle of the Neighborhoods - Week 1(Part 2)\n",
    "------------------------------------------------"
   ]
  },
  {
   "cell_type": "markdown",
   "metadata": {},
   "source": [
    "Data:\n",
    "-----"
   ]
  },
  {
   "cell_type": "markdown",
   "metadata": {},
   "source": [
    "One city will be analyzed in this project: New York City.\n",
    "                                          \n",
    "We will be using the below datasets for analyzing New York City.\n"
   ]
  },
  {
   "cell_type": "markdown",
   "metadata": {},
   "source": [
    "Data 1:\n",
    "-------"
   ]
  },
  {
   "cell_type": "markdown",
   "metadata": {},
   "source": [
    "Neighborhood has a total of 5 boroughs and 306 neighborhoods. In order to segment the neighborhoods and explore them, we will essentially need a dataset that contains the 5 boroughs and the neighborhoods that exist in each borough as well as the geographical coordinates of each neighborhood.\n",
    "\n",
    "Here is the link of the dataset: https://geo.nyu.edu/catalog/nyu_2451_34572\n"
   ]
  },
  {
   "cell_type": "markdown",
   "metadata": {},
   "source": [
    "![Image of Yaktocat](https://github.com/gacesilvere/Coursera_Capstone/blob/master/image1.jpg)"
   ]
  },
  {
   "cell_type": "markdown",
   "metadata": {},
   "source": []
  },
  {
   "cell_type": "code",
   "execution_count": null,
   "metadata": {},
   "outputs": [],
   "source": [
    " Data 2:\n",
    " -----"
   ]
  },
  {
   "cell_type": "markdown",
   "metadata": {},
   "source": [
    "We will use the data relative to the Farmers Markets and Food Boxes. \n",
    "\n",
    "Dataset sources:\n",
    "\n",
    "•\thttps://data.cityofnewyork.us/dataset/DOHMH-Farmers-Markets-and-Food-Boxes/8vwk-6iz2\n",
    "\n",
    "•\thttps://www.grownyc.org/greenmarketco/foodbox\n"
   ]
  },
  {
   "cell_type": "markdown",
   "metadata": {},
   "source": [
    "Data 3:\n",
    "------"
   ]
  },
  {
   "cell_type": "markdown",
   "metadata": {},
   "source": [
    "We will use the dataset related to New York City Population and Cuisines (Restaurants).\n",
    "\n",
    "Data sources:\n",
    "\n",
    "•\thttps://en.wikipedia.org/wiki/New_York_City\n",
    "\n",
    "•\thttps://en.wikipedia.org/wiki/Economy_of_New_York_City\n",
    "\n",
    "•\thttps://en.wikipedia.org/wiki/Portal:New_York_City\n",
    "\n",
    "•\thttps://en.wikipedia.org/wiki/Cuisine_of_New_York_City\n",
    "\n",
    "•\thttps://en.wikipedia.org/wiki/List_of_Michelin_starred_restaurants_in_New_York_City\n"
   ]
  },
  {
   "cell_type": "markdown",
   "metadata": {},
   "source": [
    "Data 4: \n",
    "-------"
   ]
  },
  {
   "cell_type": "markdown",
   "metadata": {},
   "source": [
    "We will use New York City geographical coordinates data and the Foursquare API to explore neighborhoods in New York City. Below is image of the Foursquare API data."
   ]
  },
  {
   "cell_type": "code",
   "execution_count": null,
   "metadata": {},
   "outputs": [],
   "source": []
  }
 ],
 "metadata": {
  "kernelspec": {
   "display_name": "Python",
   "language": "python",
   "name": "conda-env-python-py"
  },
  "language_info": {
   "codemirror_mode": {
    "name": "ipython",
    "version": 3
   },
   "file_extension": ".py",
   "mimetype": "text/x-python",
   "name": "python",
   "nbconvert_exporter": "python",
   "pygments_lexer": "ipython3",
   "version": "3.6.7"
  }
 },
 "nbformat": 4,
 "nbformat_minor": 4
}
